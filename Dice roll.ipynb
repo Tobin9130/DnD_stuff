{
 "cells": [
  {
   "cell_type": "markdown",
   "metadata": {},
   "source": [
    "### Lorovhik Wisehunter Nokorath\n",
    "\n",
    "Automated dice rolls for a competetive Goliath brute fighter...thing"
   ]
  },
  {
   "cell_type": "code",
   "execution_count": 57,
   "metadata": {},
   "outputs": [],
   "source": [
    "from random import randint\n",
    "\n",
    "# Classes setup\n",
    "class dice:\n",
    "    # Great weapon fighting style hard coded in special roll parameters. \n",
    "    def __init__(self, Maximum, Special = None):\n",
    "        self.Max = Maximum\n",
    "        self.Spec = Special\n",
    "        self.description = 'This is a d' + str(self.Max) \n",
    "    \n",
    "    def __str__(self):\n",
    "        if self.Spec is None:\n",
    "            return self.description\n",
    "        else:\n",
    "            return self.description + ' used for ' + self.Spec\n",
    "    \n",
    "    def roll(self):\n",
    "        if self.Spec is None:\n",
    "            return randint(1,self.Max)\n",
    "        else:\n",
    "            roll = randint(1,self.Max)\n",
    "            if roll > 2:\n",
    "                return roll\n",
    "            else:\n",
    "                return randint(1,self.Max)\n",
    "            \n",
    "    def multi_roll(self, count):\n",
    "        for roll in range(count):\n",
    "            self.roll()\n",
    "        \n",
    "class combo_roll:\n",
    "    # takes list of dice objects\n",
    "    def __init__(self,name, typ3, dice, modifier):\n",
    "        self.name = name\n",
    "        self.type = typ3\n",
    "        self.dice = dice \n",
    "        self.weapon_mod = modifier\n",
    "    \n",
    "    def __str__(self):\n",
    "        return self.name\n",
    "    \n",
    "    def roll(self):\n",
    "        rolled = [die.roll() for die in self.dice]\n",
    "        print('Rolled: ' )\n",
    "        print(*rolled, sep = ', ')\n",
    "        print(self.name + ' with ' + self.type +' modifier of ' + str(self.weapon_mod) + ' for total of ' + str(sum(rolled) + self.weapon_mod))\n",
    "\n",
    "class character:\n",
    "    def __init__(self, Name, HitPoints):\n",
    "        self.name = Name\n",
    "        self.hp = HitPoints\n",
    "        self.hp_max = HitPoints\n",
    "        self.state = 'alive'\n",
    "    \n",
    "    def __str__(self):\n",
    "        return self.name + ' is a character with ' + str(self.hp) + ' hp. They are currently ' + self.state\n",
    "    \n",
    "    def check_state(self):\n",
    "        if self.hp > 0:\n",
    "            self.state = 'alive'\n",
    "        else:\n",
    "            self.state = 'dead'\n",
    "            print(self.name + ' has died....')\n",
    "            self.hp = 0\n",
    "    \n",
    "    def take_dmg(self, damage):\n",
    "        self.hp = self.hp - damage\n",
    "        self.check_state()\n",
    "        \n",
    "    def heal(self, add_hp):\n",
    "        if self.hp + add_hp > self.hp_max:\n",
    "            self.hp = self.hp_max\n",
    "            self.check_state()\n",
    "        else:\n",
    "            self.hp = self.hp + add_hp\n",
    "            self.check_state()\n",
    "        \n",
    "\n",
    "# Dice objects defined\n",
    "d20 = dice(20)\n",
    "d12 = dice(12)\n",
    "d10 = dice(10)\n",
    "d100 = dice(100)\n",
    "d8 = dice(8)\n",
    "d6 = dice(6)\n",
    "d6_GW = dice(6, Special = 'Great Weapon Figthting Style')\n",
    "d4 = dice(4)\n",
    "d4_GW = dice(4, Special = 'Great Weapon Figthting Style')\n",
    "\n",
    "# Type roll objects\n",
    "Roll_Initiative = combo_roll('Initiative','initiative',[d20],1)\n",
    "\n",
    "Sword_damage_roll = combo_roll('+1 Great Sword', 'Slashing Damage',[d6_GW,d6_GW,d4_GW], 4)\n",
    "Javelin_damage_roll = combo_roll('Javelin', 'Piercing Damage',[d6,d4], 3)\n",
    "\n",
    "Healing_potion = combo_roll('Healing potion','healing',[d4,d4], 2)\n",
    "\n",
    "Death_Saving_Throw = combo_roll('DEATH SAVING', 'TOO ANGRY TO DIE', [d20],0)\n",
    "\n",
    "Athletics_check = combo_roll('Athletics', 'Check',[d20], 5)\n",
    "Stealth_check = combo_roll('Stealth', 'Check',[d20], 3)\n",
    "Intimidation_check = combo_roll('Intimidation', 'Check',[d20], 3)\n",
    "Perception_check = combo_roll('Perception', 'Check',[d20], 2)\n",
    "\n",
    "Strength_saving_throw = combo_roll('STR', 'Saving throw',[d20],5)\n",
    "Dexterity_saving_throw = combo_roll('DEX', 'Saving throw',[d20],1)\n",
    "Constitution_saving_throw = combo_roll('CON', 'Saving throw',[d20],4)\n",
    "Intelligence_saving_throw = combo_roll('INT', 'Saving throw',[d20],-1)\n",
    "Wisdom_saving_throw = combo_roll('WIS', 'Saving throw',[d20],0)\n",
    "Charisma_saving_throw = combo_roll('CHA', 'Saving throw',[d20],1)"
   ]
  },
  {
   "cell_type": "code",
   "execution_count": 58,
   "metadata": {},
   "outputs": [],
   "source": [
    "Lorovhik = character('Lorovhik', 28)"
   ]
  },
  {
   "cell_type": "code",
   "execution_count": 68,
   "metadata": {},
   "outputs": [
    {
     "name": "stdout",
     "output_type": "stream",
     "text": [
      "Lorovhik is a character with 2 hp. They are currently alive\n"
     ]
    }
   ],
   "source": [
    "print(Lorovhik)"
   ]
  },
  {
   "cell_type": "code",
   "execution_count": 67,
   "metadata": {},
   "outputs": [],
   "source": [
    "Lorovhik.take_dmg(10)"
   ]
  },
  {
   "cell_type": "code",
   "execution_count": 64,
   "metadata": {},
   "outputs": [],
   "source": [
    "Lorovhik.heal(12)"
   ]
  },
  {
   "cell_type": "code",
   "execution_count": null,
   "metadata": {},
   "outputs": [],
   "source": [
    "d6_GW = dice(6, Special = 'Great Weapon Figthting Style')"
   ]
  },
  {
   "cell_type": "code",
   "execution_count": null,
   "metadata": {},
   "outputs": [],
   "source": [
    "d6_GW.roll()"
   ]
  },
  {
   "cell_type": "code",
   "execution_count": null,
   "metadata": {},
   "outputs": [],
   "source": [
    "print(d6_GW)"
   ]
  },
  {
   "cell_type": "code",
   "execution_count": null,
   "metadata": {},
   "outputs": [],
   "source": [
    "Roll_Initiative.roll()"
   ]
  },
  {
   "cell_type": "code",
   "execution_count": null,
   "metadata": {},
   "outputs": [],
   "source": [
    "Sword_damage_roll.roll()"
   ]
  },
  {
   "cell_type": "code",
   "execution_count": null,
   "metadata": {},
   "outputs": [],
   "source": [
    "Javelin_damage_roll.roll()"
   ]
  },
  {
   "cell_type": "code",
   "execution_count": null,
   "metadata": {},
   "outputs": [],
   "source": [
    "Athletics_check.roll()"
   ]
  },
  {
   "cell_type": "code",
   "execution_count": null,
   "metadata": {},
   "outputs": [],
   "source": [
    "Stealth_check.roll()"
   ]
  },
  {
   "cell_type": "code",
   "execution_count": null,
   "metadata": {},
   "outputs": [],
   "source": [
    "Intimidation_check.roll()"
   ]
  },
  {
   "cell_type": "code",
   "execution_count": null,
   "metadata": {},
   "outputs": [],
   "source": [
    "Perception_check.roll()"
   ]
  },
  {
   "cell_type": "code",
   "execution_count": null,
   "metadata": {},
   "outputs": [],
   "source": [
    "Death_Saving_Throw.roll()"
   ]
  },
  {
   "cell_type": "code",
   "execution_count": null,
   "metadata": {},
   "outputs": [],
   "source": [
    "Strength_saving_throw.roll()"
   ]
  },
  {
   "cell_type": "code",
   "execution_count": null,
   "metadata": {},
   "outputs": [],
   "source": [
    "Dexterity_saving_throw.roll()"
   ]
  },
  {
   "cell_type": "code",
   "execution_count": null,
   "metadata": {},
   "outputs": [],
   "source": [
    "Constitution_saving_throw.roll()"
   ]
  },
  {
   "cell_type": "code",
   "execution_count": null,
   "metadata": {},
   "outputs": [],
   "source": [
    "Intelligence_saving_throw.roll()"
   ]
  },
  {
   "cell_type": "code",
   "execution_count": null,
   "metadata": {},
   "outputs": [],
   "source": [
    "Wisdom_saving_throw.roll()"
   ]
  },
  {
   "cell_type": "code",
   "execution_count": null,
   "metadata": {},
   "outputs": [],
   "source": [
    "Charisma_saving_throw.roll()"
   ]
  },
  {
   "cell_type": "code",
   "execution_count": null,
   "metadata": {},
   "outputs": [],
   "source": [
    "Healing_potion.roll()"
   ]
  },
  {
   "cell_type": "code",
   "execution_count": null,
   "metadata": {},
   "outputs": [],
   "source": [
    "d100.roll()"
   ]
  }
 ],
 "metadata": {
  "kernelspec": {
   "display_name": "Python 3",
   "language": "python",
   "name": "python3"
  },
  "language_info": {
   "codemirror_mode": {
    "name": "ipython",
    "version": 3
   },
   "file_extension": ".py",
   "mimetype": "text/x-python",
   "name": "python",
   "nbconvert_exporter": "python",
   "pygments_lexer": "ipython3",
   "version": "3.7.3"
  }
 },
 "nbformat": 4,
 "nbformat_minor": 4
}
